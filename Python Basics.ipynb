{
 "cells": [
  {
   "cell_type": "markdown",
   "id": "8fba33bd",
   "metadata": {},
   "source": [
    "# Logical Operators"
   ]
  },
  {
   "cell_type": "code",
   "execution_count": null,
   "id": "b7309ab7",
   "metadata": {},
   "outputs": [],
   "source": [
    "True and True\n",
    "True and False\n",
    "False and False\n",
    "True and not False\n",
    "not(True and True)\n",
    "\n",
    "# Bit-by-bit\n",
    "# AND bit-by-bit\n",
    "# 3 = 11\n",
    "# 2 = 10\n",
    "# _ = 10\n",
    "3 & 2\n",
    "\n",
    "# Bit-by-bit\n",
    "# OR bit-by-bit\n",
    "# 3 = 11\n",
    "# 2 = 10\n",
    "# _ = 11\n",
    "3 | 2\n",
    "\n",
    "# Bit-by-bit\n",
    "# XOR bit-by-bit\n",
    "# 3 = 11\n",
    "# 2 = 10\n",
    "# _ = 01\n",
    "3 ^ 2"
   ]
  },
  {
   "cell_type": "markdown",
   "id": "6c674349",
   "metadata": {},
   "source": [
    "# Ternary Operator"
   ]
  },
  {
   "cell_type": "code",
   "execution_count": null,
   "id": "4fc79ce1",
   "metadata": {},
   "outputs": [],
   "source": [
    "is_raining = True\n",
    "print(\"My clothes are \" + (\"dry\", \"wet\")[is_raining])\n",
    "print(\"My clothes are \" + (\"dry\", \"wet\")[not is_raining])"
   ]
  },
  {
   "cell_type": "markdown",
   "id": "5ff06efc",
   "metadata": {},
   "source": [
    "#  More operators"
   ]
  },
  {
   "cell_type": "code",
   "execution_count": null,
   "id": "8c8073e7",
   "metadata": {},
   "outputs": [],
   "source": [
    "# Membership Operators\n",
    "print(\"1. Membership Operators\")\n",
    "list = [1, 2, 3, \"Ana\", \"Carla\"]\n",
    "print(2 in list)\n",
    "print(\"Ana\" not in list)\n",
    "\n",
    "print()\n",
    "\n",
    "# Identity Operators\n",
    "print(\"2. Identity Operators\")\n",
    "x = 3\n",
    "y = x\n",
    "z = 3\n",
    "print(x is y)\n",
    "print(z is y)\n",
    "print(x is not z)\n",
    "\n",
    "print()\n",
    "print(\"2.1 For list\")\n",
    "list_a = [1, 2, 3]\n",
    "list_b = list_a\n",
    "list_c = [1, 2, 3]\n",
    "print(list_a is list_b)\n",
    "print(list_a is list_c) # different reference in memory\n",
    "print(list_a is not list_c)"
   ]
  },
  {
   "cell_type": "markdown",
   "id": "f00350c6",
   "metadata": {},
   "source": [
    "# Builtins"
   ]
  },
  {
   "cell_type": "code",
   "execution_count": 2,
   "id": "a761658b",
   "metadata": {},
   "outputs": [
    {
     "name": "stdout",
     "output_type": "stream",
     "text": [
      "3.3333333333333335\n"
     ]
    },
    {
     "data": {
      "text/plain": [
       "['In',\n",
       " 'Out',\n",
       " '_',\n",
       " '_1',\n",
       " '__',\n",
       " '___',\n",
       " '__builtin__',\n",
       " '__builtins__',\n",
       " '__doc__',\n",
       " '__loader__',\n",
       " '__name__',\n",
       " '__package__',\n",
       " '__spec__',\n",
       " '_dh',\n",
       " '_i',\n",
       " '_i1',\n",
       " '_i2',\n",
       " '_ih',\n",
       " '_ii',\n",
       " '_iii',\n",
       " '_oh',\n",
       " 'a',\n",
       " 'exit',\n",
       " 'get_ipython',\n",
       " 'math',\n",
       " 'quit']"
      ]
     },
     "execution_count": 2,
     "metadata": {},
     "output_type": "execute_result"
    }
   ],
   "source": [
    "__builtins__.type(\"Test\")\n",
    "__builtins__.print(10 / 3)\n",
    "\n",
    "dir() # from builtins\n",
    "\n",
    "1 + 3\n",
    "# _ is the last command result\n",
    "a = 7\n",
    "import math\n",
    "dir()"
   ]
  }
 ],
 "metadata": {
  "kernelspec": {
   "display_name": "Python 3 (ipykernel)",
   "language": "python",
   "name": "python3"
  },
  "language_info": {
   "codemirror_mode": {
    "name": "ipython",
    "version": 3
   },
   "file_extension": ".py",
   "mimetype": "text/x-python",
   "name": "python",
   "nbconvert_exporter": "python",
   "pygments_lexer": "ipython3",
   "version": "3.9.7"
  }
 },
 "nbformat": 4,
 "nbformat_minor": 5
}
