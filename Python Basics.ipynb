{
 "cells": [
  {
   "cell_type": "markdown",
   "id": "8fba33bd",
   "metadata": {},
   "source": [
    "# Logical Operators"
   ]
  },
  {
   "cell_type": "code",
   "execution_count": null,
   "id": "b7309ab7",
   "metadata": {},
   "outputs": [],
   "source": [
    "True and True\n",
    "True and False\n",
    "False and False\n",
    "True and not False\n",
    "not(True and True)\n",
    "\n",
    "# Bit-by-bit\n",
    "# AND bit-by-bit\n",
    "# 3 = 11\n",
    "# 2 = 10\n",
    "# _ = 10\n",
    "3 & 2\n",
    "\n",
    "# Bit-by-bit\n",
    "# OR bit-by-bit\n",
    "# 3 = 11\n",
    "# 2 = 10\n",
    "# _ = 11\n",
    "3 | 2\n",
    "\n",
    "# Bit-by-bit\n",
    "# XOR bit-by-bit\n",
    "# 3 = 11\n",
    "# 2 = 10\n",
    "# _ = 01\n",
    "3 ^ 2"
   ]
  },
  {
   "cell_type": "markdown",
   "id": "6c674349",
   "metadata": {},
   "source": [
    "# Ternary Operator"
   ]
  },
  {
   "cell_type": "code",
   "execution_count": null,
   "id": "4fc79ce1",
   "metadata": {},
   "outputs": [],
   "source": [
    "is_raining = True\n",
    "print(\"My clothes are \" + (\"dry\", \"wet\")[is_raining])\n",
    "print(\"My clothes are \" + (\"dry\", \"wet\")[not is_raining])"
   ]
  },
  {
   "cell_type": "markdown",
   "id": "5ff06efc",
   "metadata": {},
   "source": [
    "#  More operators"
   ]
  },
  {
   "cell_type": "code",
   "execution_count": null,
   "id": "8c8073e7",
   "metadata": {},
   "outputs": [],
   "source": [
    "# Membership Operators\n",
    "print(\"1. Membership Operators\")\n",
    "list = [1, 2, 3, \"Ana\", \"Carla\"]\n",
    "print(2 in list)\n",
    "print(\"Ana\" not in list)\n",
    "\n",
    "print()\n",
    "\n",
    "# Identity Operators\n",
    "print(\"2. Identity Operators\")\n",
    "x = 3\n",
    "y = x\n",
    "z = 3\n",
    "print(x is y)\n",
    "print(z is y)\n",
    "print(x is not z)\n",
    "\n",
    "print()\n",
    "print(\"2.1 For list\")\n",
    "list_a = [1, 2, 3]\n",
    "list_b = list_a\n",
    "list_c = [1, 2, 3]\n",
    "print(list_a is list_b)\n",
    "print(list_a is list_c) # different reference in memory\n",
    "print(list_a is not list_c)"
   ]
  },
  {
   "cell_type": "markdown",
   "id": "f00350c6",
   "metadata": {},
   "source": [
    "# Builtins"
   ]
  },
  {
   "cell_type": "code",
   "execution_count": null,
   "id": "a761658b",
   "metadata": {},
   "outputs": [],
   "source": [
    "__builtins__.type(\"Test\")\n",
    "__builtins__.print(10 / 3)\n",
    "\n",
    "dir() # from builtins\n",
    "\n",
    "1 + 3\n",
    "# _ is the last command result\n",
    "a = 7\n",
    "import math\n",
    "dir()"
   ]
  },
  {
   "cell_type": "markdown",
   "id": "0f15a612",
   "metadata": {},
   "source": [
    "# Strings "
   ]
  },
  {
   "cell_type": "code",
   "execution_count": null,
   "id": "258d2884",
   "metadata": {},
   "outputs": [],
   "source": [
    "name = \"Gabriel Romero de Souza\"\n",
    "print(name[4:]) # delimits a range starting from the index\n",
    "print(name[:4]) # delimits a range from the start to the index (index not include)\n",
    "print(name[-7:])# negative index starting from the end\n",
    "print(name[0:7])\n",
    "print()\n",
    "\n",
    "numbers = '1234567890'\n",
    "print(numbers[::2])\n",
    "print(numbers[1::2])\n",
    "print(numbers[::-1]) #invert string\n",
    "print()\n",
    "\n",
    "phrase = \"Python is a great language\"\n",
    "print('py' in phrase)\n",
    "print('Py' in phrase)\n",
    "print('py' in phrase.lower())\n",
    "phrase = phrase.upper()\n",
    "print(phrase)\n",
    "print(phrase.split())\n",
    "print(phrase.split('A'))\n",
    "print(len(phrase))"
   ]
  },
  {
   "cell_type": "markdown",
   "id": "b3349385",
   "metadata": {},
   "source": [
    "#  List - Can be modified"
   ]
  },
  {
   "cell_type": "code",
   "execution_count": null,
   "id": "9231ff7c",
   "metadata": {},
   "outputs": [],
   "source": [
    "list = []\n",
    "print(len(list))\n",
    "\n",
    "list.append(1)\n",
    "list.append(5)\n",
    "print(len(list))\n",
    "print()\n",
    "\n",
    "new_list = [1, 5, \"Ana\", \"Bia\"]\n",
    "new_list.remove(\"Ana\")\n",
    "print(new_list)\n",
    "# new_list.remove(\"test\") error, test not in list\n",
    "new_list.reverse()\n",
    "print(new_list)\n",
    "\n",
    "new_list.append([7, 8, 9])\n",
    "print(new_list)"
   ]
  },
  {
   "cell_type": "code",
   "execution_count": null,
   "id": "05f99239",
   "metadata": {},
   "outputs": [],
   "source": [
    "list = [1, 5, \"Rebeca\", \"Guilherme\", 3.1415]\n",
    "list.index('Guilherme')\n",
    "# list.index(42) error\n",
    "print(list[2])\n",
    "print(1 in list)\n",
    "print('Rebeca' in list)\n",
    "print('Pedro' not in list)\n",
    "print(list[0])\n",
    "print(list[4])\n",
    "#print(list[5]) error\n",
    "print(list[-1])\n",
    "print(list[-3])"
   ]
  },
  {
   "cell_type": "code",
   "execution_count": null,
   "id": "5e8ef160",
   "metadata": {},
   "outputs": [],
   "source": [
    "list = ['Ana', 'Lia', 'Rui', 'Paulo', 'Dani']\n",
    "print(list[1:3])\n",
    "print(list[1:-1])\n",
    "print(list[1:])\n",
    "print(list[:-1])\n",
    "print(list[:])\n",
    "print(list[::2])\n",
    "print(list[::-1])\n",
    "del list[2]\n",
    "print(list)\n",
    "del list[1:]\n",
    "print(list)"
   ]
  },
  {
   "cell_type": "markdown",
   "id": "d7165607",
   "metadata": {},
   "source": [
    "# Tuples - Can't be modified"
   ]
  },
  {
   "cell_type": "code",
   "execution_count": null,
   "id": "5bb67371",
   "metadata": {},
   "outputs": [],
   "source": [
    "tuple = () # or tuple ()\n",
    "print(type(tuple))\n",
    "tuple = ('um')\n",
    "print(type(tuple)) # will be str\n",
    "tuple = ('um',)\n",
    "print(type(tuple)) # will be tuple\n",
    "print(tuple[0])\n",
    "print()\n",
    "\n",
    "colors = ('green', 'yellow', 'blue', 'Blue', 'blue', 'white')\n",
    "print(colors[0])\n",
    "print(colors[-1])\n",
    "print(colors[1:])\n",
    "\n",
    "print(colors.index('yellow'))\n",
    "print(colors.count('blue'))\n",
    "print(len(colors))"
   ]
  },
  {
   "cell_type": "markdown",
   "id": "30186c4c",
   "metadata": {},
   "source": [
    "# Dictionaries"
   ]
  },
  {
   "cell_type": "code",
   "execution_count": null,
   "id": "de0c9b27",
   "metadata": {},
   "outputs": [],
   "source": [
    "people = {'name': 'Ana', 'age': 38, 'courses': ['Math', 'English']}\n",
    "print(type(people))\n",
    "print(len(people))\n",
    "\n",
    "print(people)\n",
    "print(people['name'])\n",
    "print(people['age'])\n",
    "print(people['courses'])\n",
    "print(people['courses'][1])\n",
    "#print(people['tags']) error\n",
    "print(people.keys())\n",
    "print(people.values())\n",
    "print(people.items())\n",
    "print(people.get('age'))\n",
    "print(people.get('tags'))\n",
    "print(people.get('tags', []))"
   ]
  },
  {
   "cell_type": "code",
   "execution_count": null,
   "id": "6ff5e649",
   "metadata": {},
   "outputs": [],
   "source": [
    "people = {'name': 'Alberto', 'age': 43, 'courses': ['React', 'Python']}\n",
    "people['age'] = 44\n",
    "people['courses'].append('Angular')\n",
    "print(people)\n",
    "people.pop('age')\n",
    "print(people)\n",
    "people.update({'age': 40, 'Gender': 'M'})\n",
    "print(people)\n",
    "del people['courses']\n",
    "print(people)\n",
    "people.clear()\n",
    "print(people)"
   ]
  },
  {
   "cell_type": "markdown",
   "id": "f5db65ea",
   "metadata": {},
   "source": [
    "#  Set\n",
    "\n",
    "Not support indexing, no repeat values, without ordering"
   ]
  },
  {
   "cell_type": "code",
   "execution_count": null,
   "id": "2f566b66",
   "metadata": {},
   "outputs": [],
   "source": [
    "a = {1, 2, 3}\n",
    "# a[0]\n",
    "a = set('codddd3r')\n",
    "print(a)\n",
    "print('3' in a, 4 not in a)\n",
    "print({1, 2, 3} == {3, 2, 1, 3})\n",
    "print()\n",
    "\n",
    "#operators\n",
    "print('operators')\n",
    "c1 = {1, 2}\n",
    "c2 = {2, 3}\n",
    "print(c1.union(c2))\n",
    "print(c1.intersection(c2))\n",
    "c1.update(c2)\n",
    "print(c1)\n",
    "\n",
    "print(c2 <= c1) #sub set\n",
    "print(c1 >= c2) #!sub set\n",
    "\n",
    "{1, 2, 3} - {2} # difference\n",
    "c1 -= {2}\n",
    "print(c1)"
   ]
  },
  {
   "cell_type": "markdown",
   "id": "319405a5",
   "metadata": {},
   "source": [
    "#  Interpolation"
   ]
  },
  {
   "cell_type": "code",
   "execution_count": null,
   "id": "825635da",
   "metadata": {},
   "outputs": [],
   "source": [
    "name, age = \"Ana\", 30\n",
    "\n",
    "print('Name: %s Age: %d' % (name, age))\n",
    "print('Name: {0} Age: {1}'.format(name, age))\n",
    "print(f'Name: {name} Age: {age}')\n",
    "\n",
    "from string import Template\n",
    "s = Template('Name: $name Age: $age')\n",
    "print(s.substitute(name=name, age=age))"
   ]
  }
 ],
 "metadata": {
  "kernelspec": {
   "display_name": "Python 3 (ipykernel)",
   "language": "python",
   "name": "python3"
  },
  "language_info": {
   "codemirror_mode": {
    "name": "ipython",
    "version": 3
   },
   "file_extension": ".py",
   "mimetype": "text/x-python",
   "name": "python",
   "nbconvert_exporter": "python",
   "pygments_lexer": "ipython3",
   "version": "3.9.7"
  }
 },
 "nbformat": 4,
 "nbformat_minor": 5
}
